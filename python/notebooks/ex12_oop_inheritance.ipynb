{
 "cells": [
  {
   "cell_type": "markdown",
   "metadata": {},
   "source": [
    "# Exercise 12: Inheritance with Object Oriented Programming (OOP)"
   ]
  },
  {
   "cell_type": "markdown",
   "metadata": {},
   "source": [
    "## Aims: Introduce the concept of inheritance in OOP programming"
   ]
  },
  {
   "cell_type": "markdown",
   "metadata": {},
   "source": [
    "### Issues covered:\n",
    "- Inheritance\n",
    "- Making your own class\n",
    "- Using the \\_\\_init__ method"
   ]
  },
  {
   "cell_type": "markdown",
   "metadata": {},
   "source": [
    "In the presentation we saw an example of extending the `DataStore` class to make a `TemperatureStore` which would convert input in Celcius to Kelvin.\n",
    "\n",
    "```python\n",
    "class TemperatureStore(DataStore)\n",
    "\n",
    "    def add_measurement(self, date, value):\n",
    "        \n",
    "        # convert to kelvin\n",
    "        value += 272.15\n",
    "        \n",
    "        self.measurements.append(value)\n",
    "        self.times.append(date)\n",
    "```\n",
    "\n",
    "This modifies the behaviour of the `add_measurements` method. A process called polymorphism (you can google it if you want to go down a rabbit hole)."
   ]
  },
  {
   "cell_type": "markdown",
   "metadata": {},
   "source": [
    "## 1. Let's extend our `DataStore` using inheritance"
   ]
  },
  {
   "cell_type": "markdown",
   "metadata": {},
   "source": [
    "We are going to create a new class which accumulates the values given to it. This could be useful for storing rainfall values or anything else which benefits from knowing an accumulated value.\n",
    "\n",
    "This is what your new class will do, after some changes:\n",
    "- Store the cumulative total when adding a measurement\n",
    "\n"
   ]
  },
  {
   "cell_type": "markdown",
   "metadata": {},
   "source": [
    "Create a new class called `AccumulatingStore` which inherits from `DataStore`."
   ]
  },
  {
   "cell_type": "markdown",
   "metadata": {},
   "source": [
    "Override the `add_measurement` method (like in the example above) to accumulate the values which are added."
   ]
  },
  {
   "cell_type": "markdown",
   "metadata": {},
   "source": [
    "```python\n",
    "    def add_measurement(self, date, value):\n",
    "        \"\"\"\n",
    "        Add measurement to the accumulation\n",
    "\n",
    "        :param date: Date of measurement\n",
    "        :param value: Measurement value\n",
    "        \"\"\"\n",
    "\n",
    "        self.times.append(date)\n",
    "        \n",
    "        last_measurement = 0\n",
    "\n",
    "        # Get the last measurement if we already have some\n",
    "        if self.measurements:\n",
    "            last_measurement = self.measurements[-1]\n",
    "\n",
    "        # add the accumulated value\n",
    "        self.measurements.append(last_measurement + value)\n",
    "```"
   ]
  },
  {
   "cell_type": "markdown",
   "metadata": {},
   "source": [
    "Try out your new method. Add values `1`,`2`,`3` to your store and print the data using `print_measurements`"
   ]
  },
  {
   "cell_type": "code",
   "execution_count": 7,
   "metadata": {},
   "outputs": [
    {
     "name": "stdout",
     "output_type": "stream",
     "text": [
      "2021-05-01 1\n",
      "2021-05-02 3\n",
      "2021-05-03 6\n"
     ]
    }
   ],
   "source": [
    "from data_store import DataStore\n",
    "from data_store import AccumulatingStore\n",
    "\n",
    "store = AccumulatingStore()\n",
    "store.add_measurement('2021-05-01',1)\n",
    "store.add_measurement('2021-05-02',2)\n",
    "store.add_measurement('2021-05-03',3)\n",
    "\n",
    "store.print_measurements()\n"
   ]
  },
  {
   "cell_type": "markdown",
   "metadata": {
    "tags": []
   },
   "source": [
    "What if we wanted to be able to keep the raw values?\n",
    "\n",
    "## 2. Let's add an additional class variable to store the accumulation"
   ]
  },
  {
   "cell_type": "markdown",
   "metadata": {},
   "source": [
    "In this next section, you will need to use `super()` so that you can extend the functionality of your methods without having to duplicate the code.\n",
    "\n",
    "`super()` is used within your method to call the method from the base class. In our `AccumulatingStore` the base class is `DataStore`. When we extend methods, we want to call the code from `DataStore` and then run our code in the new class. \n",
    "\n",
    "It is called using `super().<method_name>()`\n",
    "\n",
    "If the method has any parameters, make sure to add them in too. e.g. `super().<method_name>(arg1, arg2)`\n",
    "\n",
    "Here is an example to demonstrate the point:\n",
    "\n",
    "```python\n",
    "\n",
    "class BaseClass:\n",
    "    \n",
    "    def __init__():\n",
    "        \n",
    "        self.data = []\n",
    "    \n",
    "        \n",
    "class SubClass(BaseClass):\n",
    "    \n",
    "    def __init__(self, name):\n",
    "\n",
    "        super().__init__()\n",
    "        self.name = name\n",
    "```"
   ]
  },
  {
   "cell_type": "markdown",
   "metadata": {},
   "source": [
    "Add an `__init__` method to your `AccumultingStore` using super to setup the `times` and `measurements` data lists and add an `accumulation` class variable with and empty list as the value `[]`"
   ]
  },
  {
   "cell_type": "markdown",
   "metadata": {},
   "source": [
    "```python\n",
    "def __init__(self):\n",
    "    super().__init__()\n",
    "    self.accumulation = []\n",
    "```"
   ]
  },
  {
   "cell_type": "markdown",
   "metadata": {},
   "source": [
    "Now modify your `add_measurement` method to call out to the `DataStore` method to add the `data` and `value` to the class variables and then add your accumulated value to `self.accumulation`"
   ]
  },
  {
   "cell_type": "markdown",
   "metadata": {},
   "source": [
    "```python\n",
    "def add_measurement(self, date, value):\n",
    "\n",
    "    super().add_measurement(date, value)\n",
    "\n",
    "    # set a 0 value for the case where this is the first measurement\n",
    "    last_acc = 0\n",
    "\n",
    "    # Get the last accumulated value if we already have some\n",
    "    if self.accumulation:\n",
    "        last_acc = self.accumulation[-1]\n",
    "\n",
    "        # add the accumulated value\n",
    "        self.accumulation.append(last_acc + value)\n",
    "    \n",
    "    \n",
    "```"
   ]
  },
  {
   "cell_type": "markdown",
   "metadata": {},
   "source": [
    "Add some data to your store and check it works by looking at the class variables"
   ]
  },
  {
   "cell_type": "code",
   "execution_count": 1,
   "metadata": {},
   "outputs": [
    {
     "ename": "TypeError",
     "evalue": "'AccumulatingStore' object is not callable",
     "output_type": "error",
     "traceback": [
      "\u001b[0;31m---------------------------------------------------------------------------\u001b[0m",
      "\u001b[0;31mTypeError\u001b[0m                                 Traceback (most recent call last)",
      "Input \u001b[0;32mIn [1]\u001b[0m, in \u001b[0;36m<cell line: 5>\u001b[0;34m()\u001b[0m\n\u001b[1;32m      2\u001b[0m \u001b[38;5;28;01mfrom\u001b[39;00m \u001b[38;5;21;01mdata_store\u001b[39;00m \u001b[38;5;28;01mimport\u001b[39;00m AccumulatingStore\n\u001b[1;32m      4\u001b[0m store \u001b[38;5;241m=\u001b[39m AccumulatingStore()\n\u001b[0;32m----> 5\u001b[0m \u001b[43mstore\u001b[49m\u001b[38;5;241;43m.\u001b[39;49m\u001b[43madd_measurement\u001b[49m\u001b[43m(\u001b[49m\u001b[38;5;124;43m'\u001b[39;49m\u001b[38;5;124;43m2021-05-01\u001b[39;49m\u001b[38;5;124;43m'\u001b[39;49m\u001b[43m,\u001b[49m\u001b[38;5;241;43m1\u001b[39;49m\u001b[43m)\u001b[49m\n\u001b[1;32m      6\u001b[0m store\u001b[38;5;241m.\u001b[39madd_measurement(\u001b[38;5;124m'\u001b[39m\u001b[38;5;124m2021-05-02\u001b[39m\u001b[38;5;124m'\u001b[39m,\u001b[38;5;241m2\u001b[39m)\n\u001b[1;32m      7\u001b[0m store\u001b[38;5;241m.\u001b[39madd_measurement(\u001b[38;5;124m'\u001b[39m\u001b[38;5;124m2021-05-03\u001b[39m\u001b[38;5;124m'\u001b[39m,\u001b[38;5;241m3\u001b[39m)\n",
      "File \u001b[0;32m~/my-isc-work/python/notebooks/data_store.py:75\u001b[0m, in \u001b[0;36mAccumulatingStore.add_measurement\u001b[0;34m(self, date, value)\u001b[0m\n\u001b[1;32m     73\u001b[0m \u001b[38;5;28;01mdef\u001b[39;00m \u001b[38;5;21madd_measurement\u001b[39m(\u001b[38;5;28mself\u001b[39m, date, value):\n\u001b[0;32m---> 75\u001b[0m     \u001b[38;5;28;43mself\u001b[39;49m\u001b[43m(\u001b[49m\u001b[43m)\u001b[49m\u001b[38;5;241m.\u001b[39madd_measurement(date, value)\n\u001b[1;32m     77\u001b[0m     \u001b[38;5;66;03m# set a 0 value for the case where this is the first measurement\u001b[39;00m\n\u001b[1;32m     78\u001b[0m     last_acc \u001b[38;5;241m=\u001b[39m \u001b[38;5;241m0\u001b[39m\n",
      "\u001b[0;31mTypeError\u001b[0m: 'AccumulatingStore' object is not callable"
     ]
    }
   ],
   "source": [
    "from data_store import DataStore\n",
    "from data_store import AccumulatingStore\n",
    "\n",
    "store = AccumulatingStore()\n",
    "store.add_measurement('2021-05-01',1)\n",
    "store.add_measurement('2021-05-02',2)\n",
    "store.add_measurement('2021-05-03',3)\n",
    "\n",
    "print(store.times)\n",
    "print(store.measurements)\n",
    "print(store.accumulation)"
   ]
  },
  {
   "cell_type": "code",
   "execution_count": null,
   "metadata": {},
   "outputs": [],
   "source": []
  }
 ],
 "metadata": {
  "kernelspec": {
   "display_name": "Python 3 + Jaspy",
   "language": "python",
   "name": "jaspy"
  },
  "language_info": {
   "codemirror_mode": {
    "name": "ipython",
    "version": 3
   },
   "file_extension": ".py",
   "mimetype": "text/x-python",
   "name": "python",
   "nbconvert_exporter": "python",
   "pygments_lexer": "ipython3",
   "version": "3.10.5"
  }
 },
 "nbformat": 4,
 "nbformat_minor": 4
}
