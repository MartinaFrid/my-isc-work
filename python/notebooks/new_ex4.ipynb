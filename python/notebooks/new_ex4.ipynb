{
 "cells": [
  {
   "cell_type": "markdown",
   "metadata": {},
   "source": [
    "# Exercise 4: Tuples"
   ]
  },
  {
   "cell_type": "markdown",
   "metadata": {},
   "source": [
    "## Aim: Introduce tuples and how to work with them.\n",
    "\n",
    "### Issues covered:\n",
    " - Working with tuples\n",
    " - Converting a list to a tuple\n",
    " - The enumerate built-in function\n",
    " - Swapping values with tuples"
   ]
  },
  {
   "cell_type": "markdown",
   "metadata": {},
   "source": [
    "## 1. Let's create a couple of tuples."
   ]
  },
  {
   "cell_type": "markdown",
   "metadata": {},
   "source": [
    "Create a tuple named `t` containing one integer `1`."
   ]
  },
  {
   "cell_type": "code",
   "execution_count": 2,
   "metadata": {},
   "outputs": [
    {
     "data": {
      "text/plain": [
       "(1,)"
      ]
     },
     "execution_count": 2,
     "metadata": {},
     "output_type": "execute_result"
    }
   ],
   "source": [
    "t = (1,)\n",
    "t"
   ]
  },
  {
   "cell_type": "markdown",
   "metadata": {},
   "source": [
    "Use indexing to print the last value of the tuple."
   ]
  },
  {
   "cell_type": "code",
   "execution_count": 4,
   "metadata": {},
   "outputs": [
    {
     "data": {
      "text/plain": [
       "1"
      ]
     },
     "execution_count": 4,
     "metadata": {},
     "output_type": "execute_result"
    }
   ],
   "source": [
    "t[-1]"
   ]
  },
  {
   "cell_type": "markdown",
   "metadata": {},
   "source": [
    "Create a tuple containing all values from `100` to `200`. There must be a short-cut to doing this...there is a built-in function to convert to a tuple called: `tuple()`"
   ]
  },
  {
   "cell_type": "code",
   "execution_count": 6,
   "metadata": {},
   "outputs": [
    {
     "data": {
      "text/plain": [
       "tuple"
      ]
     },
     "execution_count": 6,
     "metadata": {},
     "output_type": "execute_result"
    }
   ],
   "source": [
    "t_new = tuple(range(100, 201))\n",
    "type(t_new)"
   ]
  },
  {
   "cell_type": "markdown",
   "metadata": {},
   "source": [
    "Print the first and the last items in the tuple."
   ]
  },
  {
   "cell_type": "code",
   "execution_count": 9,
   "metadata": {},
   "outputs": [
    {
     "name": "stdout",
     "output_type": "stream",
     "text": [
      "first item = 100\n",
      "last item = 200\n"
     ]
    }
   ],
   "source": [
    "print(\"first item =\", t_new[0])\n",
    "print(\"last item =\", t_new[-1])"
   ]
  },
  {
   "cell_type": "markdown",
   "metadata": {},
   "source": [
    "## 2. Let's use the `enumerate` built-in function."
   ]
  },
  {
   "cell_type": "markdown",
   "metadata": {},
   "source": [
    "In an earlier exercise we stepped through the items in a list using the `for` statement. We also wanted to print the index (count) of each item in the list. The solution was:\n",
    "```\n",
    "mylist = [23, \"hi\", 2.4e-10]\n",
    "for item in mylist:\n",
    "    print(item, mylist.index(item)) \n",
    "```"
   ]
  },
  {
   "cell_type": "markdown",
   "metadata": {},
   "source": [
    "Re-write the `for` loop above using the `enumerate()` built-in function."
   ]
  },
  {
   "cell_type": "markdown",
   "metadata": {},
   "source": [
    "Assign the tuple output from enumerate to the variables: `count`, `item` "
   ]
  },
  {
   "cell_type": "code",
   "execution_count": 11,
   "metadata": {},
   "outputs": [
    {
     "name": "stdout",
     "output_type": "stream",
     "text": [
      "index =  0 value = 23\n",
      "index =  1 value = hi\n",
      "index =  2 value = 2.4e-10\n"
     ]
    }
   ],
   "source": [
    "mylist = [23, \"hi\", 2.4e-10]\n",
    "for count, item in enumerate(mylist):\n",
    "    print(\"index = \", count, \"value =\", item ) "
   ]
  },
  {
   "cell_type": "markdown",
   "metadata": {},
   "source": [
    "## 3. Let's unpack multiple values from a list to a tuple in one line."
   ]
  },
  {
   "cell_type": "markdown",
   "metadata": {},
   "source": [
    "Assign the new variables `first`, `middle` and `last` to the values of `mylist` created above."
   ]
  },
  {
   "cell_type": "code",
   "execution_count": 22,
   "metadata": {},
   "outputs": [
    {
     "name": "stdout",
     "output_type": "stream",
     "text": [
      "first = 23\n",
      "middle=  hi\n",
      "last = 2.4e-10\n"
     ]
    }
   ],
   "source": [
    "first, middle, last = mylist\n",
    "print(\"first =\", first)\n",
    "print(\"middle= \", middle)\n",
    "print(\"last =\", last)"
   ]
  },
  {
   "cell_type": "markdown",
   "metadata": {},
   "source": [
    "Print the values of `first`, `middle` and `last`."
   ]
  },
  {
   "cell_type": "markdown",
   "metadata": {},
   "source": [
    "Now re-assign the values of variables `first`, `middle` and `last` to the values of `middle`, `last` and `first` - in one line!"
   ]
  },
  {
   "cell_type": "code",
   "execution_count": 24,
   "metadata": {},
   "outputs": [
    {
     "name": "stdout",
     "output_type": "stream",
     "text": [
      "first = 2.4e-10\n",
      "middle=  hi\n",
      "last = 23\n"
     ]
    }
   ],
   "source": [
    "first, middle, last = mylist\n",
    "last, middle, first = first, middle, last\n",
    "\n",
    "print(\"first =\", first)\n",
    "print(\"middle= \", middle)\n",
    "print(\"last =\", last)"
   ]
  },
  {
   "cell_type": "code",
   "execution_count": null,
   "metadata": {},
   "outputs": [],
   "source": []
  }
 ],
 "metadata": {
  "kernelspec": {
   "display_name": "Python 3 + Jaspy",
   "language": "python",
   "name": "jaspy"
  },
  "language_info": {
   "codemirror_mode": {
    "name": "ipython",
    "version": 3
   },
   "file_extension": ".py",
   "mimetype": "text/x-python",
   "name": "python",
   "nbconvert_exporter": "python",
   "pygments_lexer": "ipython3",
   "version": "3.10.5"
  }
 },
 "nbformat": 4,
 "nbformat_minor": 4
}
